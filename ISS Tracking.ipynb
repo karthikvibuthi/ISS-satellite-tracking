{
 "cells": [
  {
   "cell_type": "markdown",
   "id": "00a83fdd",
   "metadata": {},
   "source": [
    "# Tracking the NASA Satellite\n",
    "For this assignment, we will be working on streaming data which is satellite location coordinates being provided by NASA.\n",
    "\n",
    "The data is in the following format:\n",
    "{\"timestamp\": 1667492679, \"iss_position\": {\"longitude\": \"-56.8155\", \"latitude\": \"-42.5979\"}, \"message\": \"success\"}\n",
    "\n",
    "Data can be accessed from http://api.open-notify.org/iss-now.json\n",
    "\n",
    "The link can be thought of as the producer as it will do producer job.\n",
    "\n",
    "Write the consumer to connect and fetch data. In the consumer, you have to write the code which takes the data from producer and uses the location coordinates to plot the satellite location on the world map.\n",
    "\n",
    "The streaming interval should be 5 seconds. The producer should run for an hour. The graph will show the satellite tracking for 1 hr.\n",
    "\n",
    "P.S.: Keeping in mind that satellite travels very fast, the graph will have more than half of map covered with satellite track"
   ]
  },
  {
   "cell_type": "markdown",
   "id": "ab95e8bd",
   "metadata": {},
   "source": [
    "# Solution\n",
    "Here we use Folium library to create an interactive map tracking the International Space Station (ISS) as it moves in real-time. \n",
    "\n",
    "The ISS's current location coordinates is fetched and streamed from the NASA API for one hour with five second intervels, updates the map, and displays the path of the ISS as it orbits the Earth. \n",
    "\n",
    "Additionally, the script marks the start and end coordinates of the ISS's path along with timestamps."
   ]
  },
  {
   "cell_type": "code",
   "execution_count": 37,
   "id": "37d45ac2",
   "metadata": {},
   "outputs": [
    {
     "name": "stdout",
     "output_type": "stream",
     "text": [
      "Requirement already satisfied: folium in /Users/karthikvibuthi/opt/anaconda3/lib/python3.9/site-packages (0.15.0)\n",
      "Requirement already satisfied: numpy in /Users/karthikvibuthi/opt/anaconda3/lib/python3.9/site-packages (from folium) (1.21.5)\n",
      "Requirement already satisfied: jinja2>=2.9 in /Users/karthikvibuthi/opt/anaconda3/lib/python3.9/site-packages (from folium) (2.11.3)\n",
      "Requirement already satisfied: branca>=0.6.0 in /Users/karthikvibuthi/opt/anaconda3/lib/python3.9/site-packages (from folium) (0.7.0)\n",
      "Requirement already satisfied: requests in /Users/karthikvibuthi/opt/anaconda3/lib/python3.9/site-packages (from folium) (2.28.1)\n",
      "Requirement already satisfied: MarkupSafe>=0.23 in /Users/karthikvibuthi/opt/anaconda3/lib/python3.9/site-packages (from jinja2>=2.9->folium) (2.0.1)\n",
      "Requirement already satisfied: urllib3<1.27,>=1.21.1 in /Users/karthikvibuthi/opt/anaconda3/lib/python3.9/site-packages (from requests->folium) (1.26.11)\n",
      "Requirement already satisfied: certifi>=2017.4.17 in /Users/karthikvibuthi/opt/anaconda3/lib/python3.9/site-packages (from requests->folium) (2022.9.24)\n",
      "Requirement already satisfied: charset-normalizer<3,>=2 in /Users/karthikvibuthi/opt/anaconda3/lib/python3.9/site-packages (from requests->folium) (2.0.4)\n",
      "Requirement already satisfied: idna<4,>=2.5 in /Users/karthikvibuthi/opt/anaconda3/lib/python3.9/site-packages (from requests->folium) (3.3)\n"
     ]
    }
   ],
   "source": [
    "!pip install folium"
   ]
  },
  {
   "cell_type": "code",
   "execution_count": 26,
   "id": "213b6940",
   "metadata": {},
   "outputs": [],
   "source": [
    "import time\n",
    "import requests\n",
    "import folium\n",
    "\n",
    "# Defining API endpoint and ISS tracking parameters\n",
    "api_url = \"http://api.open-notify.org/iss-now.json\"\n",
    "duration = 3600  # 1 hour in seconds\n",
    "interval = 5  # 5 seconds\n",
    "coordinates = []\n",
    "end_time = time.time() + duration  # Calculate the end time\n",
    "\n",
    "\n",
    "# Initializing the map\n",
    "m = folium.Map(location=[0, 0], zoom_start=2)"
   ]
  },
  {
   "cell_type": "markdown",
   "id": "3fa9cc24",
   "metadata": {},
   "source": [
    "# Defining function to fetch and streaming the data from the API and update the map\n",
    "\n",
    "Using requests package a get request is called to fetch the coordinates of ISS "
   ]
  },
  {
   "cell_type": "code",
   "execution_count": 27,
   "id": "b2b8e413",
   "metadata": {},
   "outputs": [],
   "source": [
    "def fetch_and_update_map():\n",
    "    global coordinates\n",
    "    response = requests.get(api_url)\n",
    "    data = response.json()\n",
    "    if \"iss_position\" in data:\n",
    "        longitude = float(data[\"iss_position\"][\"longitude\"])\n",
    "        latitude = float(data[\"iss_position\"][\"latitude\"])\n",
    "        timestamp = time.strftime(\"%Y-%m-%d %H:%M:%S\", time.gmtime(data[\"timestamp\"]))\n",
    "\n",
    "        # If coordinates are present, add them to the map and update the path\n",
    "        if coordinates:\n",
    "            # Create a polyline between the current and previous coordinates\n",
    "            folium.PolyLine(locations=[coordinates[-1], [latitude, longitude]], color=\"blue\").add_to(m)\n",
    "\n",
    "        # Add a marker for the current coordinate with a timestamp\n",
    "        folium.Marker(location=[latitude, longitude], icon=folium.Icon(color='green'),\n",
    "                      popup=f'Current ({latitude}, {longitude}) - {timestamp}').add_to(m)\n",
    "\n",
    "        coordinates.append([latitude, longitude])\n"
   ]
  },
  {
   "cell_type": "markdown",
   "id": "3d75fd51",
   "metadata": {},
   "source": [
    "During the duration of one hour the fetch and update map method is called iteratively the update and plot the coordinates of ISS on world map"
   ]
  },
  {
   "cell_type": "code",
   "execution_count": 28,
   "id": "7e576185",
   "metadata": {},
   "outputs": [],
   "source": [
    "# Run the tracking for the specified duration\n",
    "while time.time() < end_time:\n",
    "    fetch_and_update_map()\n",
    "    time.sleep(interval)\n",
    "\n",
    "# Add the end marker\n",
    "if coordinates:\n",
    "    latitude, longitude = coordinates[-1]\n",
    "    timestamp = time.strftime(\"%Y-%m-%d %H:%M:%S\", time.gmtime())\n",
    "    folium.Marker(location=[latitude, longitude], icon=folium.Icon(color='red'),\n",
    "                  popup=f'End ({latitude}, {longitude}) - {timestamp}').add_to(m)\n",
    "\n",
    "# Save the final map\n",
    "m.save(\"iss_tracking.html\") # the output is shown in iss_tracking.html file"
   ]
  },
  {
   "cell_type": "code",
   "execution_count": null,
   "id": "8ff04df4",
   "metadata": {},
   "outputs": [],
   "source": []
  }
 ],
 "metadata": {
  "kernelspec": {
   "display_name": "Python 3 (ipykernel)",
   "language": "python",
   "name": "python3"
  },
  "language_info": {
   "codemirror_mode": {
    "name": "ipython",
    "version": 3
   },
   "file_extension": ".py",
   "mimetype": "text/x-python",
   "name": "python",
   "nbconvert_exporter": "python",
   "pygments_lexer": "ipython3",
   "version": "3.9.13"
  }
 },
 "nbformat": 4,
 "nbformat_minor": 5
}
